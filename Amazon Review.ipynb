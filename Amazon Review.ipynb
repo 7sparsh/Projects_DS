{
 "cells": [
  {
   "cell_type": "code",
   "execution_count": 1,
   "metadata": {},
   "outputs": [],
   "source": [
    "import pandas as pd\n",
    "import numpy as np\n",
    "import requests\n",
    "from bs4 import BeautifulSoup\n",
    "import random\n",
    "# from selenium import webdriver\n",
    "\n",
    "headers = { \n",
    "'User-Agent': 'Mozilla/5.0 (Windows NT 10.0; Win64; x64) AppleWebKit/537.36 (KHTML, like Gecko) Chrome/71.0.3578.98 Safari/537.36', \n",
    "'Accept' : 'text/html,application/xhtml+xml,application/xml;q=0.9,*/*;q=0.8', \n",
    "'Accept-Language' : 'en-US,en;q=0.5',\n",
    "'Accept-Encoding' : 'gzip', \n",
    "'DNT' : '1', # Do Not Track Request Header \n",
    "'Connection' : 'close'\n",
    "}\n",
    "# headers = {\"User-Agent\":\"Mozilla/5.0 (Windows NT 10.0; Win64; x64; rv:66.0) Gecko/20100101 Firefox/66.0\", \"Accept-Encoding\":\"gzip, deflate\", \"Accept\":\"text/html,application/xhtml+xml,application/xml;q=0.9,*/*;q=0.8\", \"DNT\":\"1\",\"Connection\":\"close\", \"Upgrade-Insecure-Requests\":\"1\"}\n",
    "# headers = {'User-Agent': 'Mozilla/5.0 (Linux; Android 5.1.1; SM-G928X Build/LMY47X) AppleWebKit/537.36 (KHTML, like Gecko) Chrome/47.0.2526.83 Mobile Safari/537.36'} "
   ]
  },
  {
   "cell_type": "markdown",
   "metadata": {},
   "source": [
    "### Download DataSET  of URL's from [here](https://github.com/taruntiwarihp/dataSets/blob/master/Amazon%20Monthly%20URLs.xlsx)"
   ]
  },
  {
   "cell_type": "code",
   "execution_count": 3,
   "metadata": {},
   "outputs": [],
   "source": [
    "def setup(i):\n",
    "    r = requests.get(i, headers=headers)#, proxies=proxies)\n",
    "    content = r.content\n",
    "    soupt = BeautifulSoup(content)\n",
    "    return soupt"
   ]
  },
  {
   "cell_type": "code",
   "execution_count": 4,
   "metadata": {},
   "outputs": [],
   "source": [
    "def prod_details(soupt):\n",
    "    ### Product Name ###\n",
    "    prod_name = soupt.find(\"span\",attrs={\"class\":\"a-size-large product-title-word-break\"})\n",
    "    p_name = prod_name.text\n",
    "    prod_name = p_name.strip()\n",
    "\n",
    "    ### Rating Star ###\n",
    "    rsoup = soupt.find(\"span\",attrs={\"class\":\"a-icon-alt\"})\n",
    "    rating_text = rsoup.text   \n",
    "\n",
    "    ### Total Rating ###\n",
    "    btsoup = soupt.find(\"div\",attrs={\"class\":\"centerColAlign centerColAlign-bbcxoverride\"})\n",
    "    rtsoup = btsoup.find(\"span\",attrs={\"class\":\"a-size-base\"})\n",
    "    total_rating = rtsoup.text\n",
    "    \n",
    "    prod_d = [prod_name, rating_text, total_rating]\n",
    "    return prod_d"
   ]
  },
  {
   "cell_type": "code",
   "execution_count": 5,
   "metadata": {},
   "outputs": [],
   "source": [
    "def reviews_l(soup):\n",
    "    link = soup.find(\"a\",attrs={\"class\":\"a-link-emphasis a-text-bold\"})\n",
    "#     link = soup.find(\"div\",attrs={\"class\":\"a-section\"})\n",
    "    main = 'https://www.amazon.com'\n",
    "#     print(link.find('a').get(\"href\"))\n",
    "    review_link = main+link.get(\"href\") #find('a').get(\"href\")\n",
    "    r = requests.get(review_link, headers=headers)#, proxies=proxies)\n",
    "    content = r.content\n",
    "    soup = BeautifulSoup(content,\"lxml\")\n",
    "    deckk = soup.find(\"div\",attrs={\"class\",\"a-section a-spacing-none review-views celwidget\"})\n",
    "    return deckk"
   ]
  },
  {
   "cell_type": "code",
   "execution_count": 6,
   "metadata": {},
   "outputs": [],
   "source": [
    "def details_s(deck):\n",
    "    ### Names ###\n",
    "    name = deck.find_all(\"span\",attrs={\"class\",\"a-profile-name\"})\n",
    "    names = []\n",
    "    for n in name:\n",
    "        names.append(n.text)\n",
    "    \n",
    "    ### Ratings ###\n",
    "    rr, rating =[],[]\n",
    "    r = deck.find_all(\"a\",attrs={\"class\",\"a-link-normal\"})\n",
    "\n",
    "    for rk in r:\n",
    "        rr.append(rk.text)\n",
    "\n",
    "    c,x,y = 0,0,1\n",
    "\n",
    "    for _ in range(len(rr)):\n",
    "        grr = rr[x:y]\n",
    "        rating.append(', '.join(grr))\n",
    "        x+=4\n",
    "        y+=4\n",
    "        c+=1\n",
    "        if c==10:\n",
    "            break\n",
    "\n",
    "    ### Titles ###\n",
    "    titles = []\n",
    "    t = deck.find_all(\"a\",attrs={\"class\",\"a-size-base a-link-normal review-title a-color-base review-title-content a-text-bold\"})\n",
    "    for i in t:\n",
    "        titles.append(i.find(\"span\").text)\n",
    "\n",
    "    ### Dates ###\n",
    "    dates=[]\n",
    "    date = deck.find_all(\"span\",attrs={\"class\":\"a-size-base a-color-secondary review-date\"})\n",
    "    for i in range(len(date)):\n",
    "        gdate = date[i].text\n",
    "        dates.append(gdate[33:])\n",
    "\n",
    "    ### Verifies ###    \n",
    "    verifies = []\n",
    "    verifie = deck.find_all(\"span\",attrs={\"class\":\"a-size-mini a-color-state a-text-bold\"})\n",
    "    for i in range(len(verifie)):\n",
    "        verifies.append(verifie[i].text)\n",
    "\n",
    "    ### Comment ###\n",
    "    story,comment=[],[]\n",
    "    s = deck.find_all(\"span\",attrs={\"class\",\"a-size-base review-text review-text-content\"})\n",
    "    for ss in s:\n",
    "        story.append(ss.find(\"span\").text.strip())\n",
    "\n",
    "    x, y = 0, 1\n",
    "    for _ in range(len(story)):\n",
    "        cs = story[x:y]\n",
    "        comment.append(', '.join(cs))\n",
    "        x += 1\n",
    "        y += 1\n",
    "    \n",
    "    revieww =[titles,rating,names,dates,comment,verifies,]\n",
    "    return revieww"
   ]
  },
  {
   "cell_type": "code",
   "execution_count": 7,
   "metadata": {},
   "outputs": [],
   "source": [
    "def next_r_link(decks):\n",
    "    flag=1\n",
    "    deck = decks\n",
    "    lk = deck.find(\"li\",attrs={\"class\",\"a-last\"})\n",
    "#     print(lk)\n",
    "    if lk == None:\n",
    "        return flag\n",
    "    mk = lk.attrs\n",
    "    tt = list(mk.values())\n",
    "    if tt[0][0] != 'a-last': #\"a-disabled a-last\":\n",
    "        return flag\n",
    "    main = 'https://www.amazon.com'\n",
    "    lk = lk.find(\"a\")\n",
    "    nlk = main+str(lk.get('href'))\n",
    "    r = requests.get(nlk, headers=headers)#, proxies=proxies)\n",
    "    content = r.content\n",
    "    soup = BeautifulSoup(content)\n",
    "    deckk = soup.find(\"div\",attrs={\"class\",\"a-section a-spacing-none review-views celwidget\"})\n",
    "    return deckk"
   ]
  },
  {
   "cell_type": "code",
   "execution_count": 8,
   "metadata": {},
   "outputs": [],
   "source": [
    "def start(soupt):\n",
    "    frames=[]\n",
    "    soup=soupt\n",
    "    col = ['review_title','StarRating','reviewer_name','review_date','review_description','Other_Tags' ]\n",
    "    decks = reviews_l(soupt)\n",
    "    while(True):\n",
    "        ### first frame ###\n",
    "        review = details_s(decks)\n",
    "        review[1][0:1]\n",
    "        reviews = pd.DataFrame(review)\n",
    "        reviews = reviews.T\n",
    "        reviews.columns = col\n",
    "        frames.append(reviews)\n",
    "        decks = next_r_link(decks)\n",
    "        if decks == 1:\n",
    "            df = pd.concat(frames)\n",
    "            return df\n",
    "        else:\n",
    "            continue"
   ]
  },
  {
   "cell_type": "code",
   "execution_count": 16,
   "metadata": {},
   "outputs": [],
   "source": [
    "dfx = pd.read_excel(\"Amazon Monthly URLs.xlsx\")\n",
    "list_urls = dfx['URL']"
   ]
  },
  {
   "cell_type": "code",
   "execution_count": 17,
   "metadata": {},
   "outputs": [],
   "source": [
    "list_urls = list_urls[1:2]"
   ]
  },
  {
   "cell_type": "code",
   "execution_count": 18,
   "metadata": {},
   "outputs": [
    {
     "name": "stdout",
     "output_type": "stream",
     "text": [
      "1    http://www.amazon.com/dp/B00002N6WX\n",
      "Name: URL, dtype: object\n"
     ]
    }
   ],
   "source": [
    "print(list_urls)"
   ]
  },
  {
   "cell_type": "code",
   "execution_count": 19,
   "metadata": {
    "scrolled": false
   },
   "outputs": [
    {
     "name": "stdout",
     "output_type": "stream",
     "text": [
      "0 http://www.amazon.com/dp/B00002N6WX\n",
      "0 B00002N6WX\n"
     ]
    }
   ],
   "source": [
    "# dfx = pd.read_excel(\"Amazon Monthly URLs.xlsx\")\n",
    "# dfx.drop([25,26,27,28,29,30,31,32,33,34,35],inplace=True) # 25,29\n",
    "# dfx.shape\n",
    "final = []\n",
    "mm = []\n",
    "for idx, i in enumerate(list_urls): \n",
    "    print(idx,i)\n",
    "    sp = setup(i)\n",
    "#     print(sp)\n",
    "    df = start(sp)\n",
    "    l = prod_details(sp)\n",
    "    df.reset_index(drop=True, inplace=True)\n",
    "    reviews = df\n",
    "    print(idx,i[25:])\n",
    "    reviews['input_url'] = str(i)\n",
    "    reviews['asin'] = i[25:]\n",
    "    reviews['product_name'] = l[0]\n",
    "    reviews['overall_stars_rating'] = l[1]\n",
    "#     reviews['total_reviews'] = int(float(mm))\n",
    "    reviews['monthly_reviews_date'] = '1/11/2020'\n",
    "    reviews['monthly_reviews_count'] = 0\n",
    "    reviews.dropna(inplace=True)\n",
    "    one = reviews[reviews['review_date'].str.contains('2020')]\n",
    "    one = one[one['review_date'].str.contains('Novemver ')]\n",
    "    \n",
    "#     if len(one) != 0:\n",
    "#         mm.append(l[2][:-8])\n",
    "#         one['monthly_reviews_count'] = total_reviews[0]-len(one)\n",
    "#     final.append(one)\n",
    "        "
   ]
  },
  {
   "cell_type": "code",
   "execution_count": 20,
   "metadata": {},
   "outputs": [
    {
     "data": {
      "text/html": [
       "<div>\n",
       "<style scoped>\n",
       "    .dataframe tbody tr th:only-of-type {\n",
       "        vertical-align: middle;\n",
       "    }\n",
       "\n",
       "    .dataframe tbody tr th {\n",
       "        vertical-align: top;\n",
       "    }\n",
       "\n",
       "    .dataframe thead th {\n",
       "        text-align: right;\n",
       "    }\n",
       "</style>\n",
       "<table border=\"1\" class=\"dataframe\">\n",
       "  <thead>\n",
       "    <tr style=\"text-align: right;\">\n",
       "      <th></th>\n",
       "      <th>review_title</th>\n",
       "      <th>StarRating</th>\n",
       "      <th>reviewer_name</th>\n",
       "      <th>review_date</th>\n",
       "      <th>review_description</th>\n",
       "      <th>Other_Tags</th>\n",
       "      <th>input_url</th>\n",
       "      <th>asin</th>\n",
       "      <th>product_name</th>\n",
       "      <th>overall_stars_rating</th>\n",
       "      <th>monthly_reviews_date</th>\n",
       "      <th>monthly_reviews_count</th>\n",
       "    </tr>\n",
       "  </thead>\n",
       "  <tbody>\n",
       "    <tr>\n",
       "      <th>0</th>\n",
       "      <td>High quality appearance and function, horizont...</td>\n",
       "      <td>5.0 out of 5 stars</td>\n",
       "      <td>Bob in VA</td>\n",
       "      <td>January 20, 2014</td>\n",
       "      <td>As usual with Baldwin products, this is a high...</td>\n",
       "      <td>Verified Purchase</td>\n",
       "      <td>http://www.amazon.com/dp/B00002N6WX</td>\n",
       "      <td>B00002N6WX</td>\n",
       "      <td>Baldwin Estate 8231.003 Low Profile Traditiona...</td>\n",
       "      <td>4.3 out of 5 stars</td>\n",
       "      <td>1/11/2020</td>\n",
       "      <td>0</td>\n",
       "    </tr>\n",
       "    <tr>\n",
       "      <th>1</th>\n",
       "      <td>Beautiful lock!</td>\n",
       "      <td>5.0 out of 5 stars</td>\n",
       "      <td>WoodButcher</td>\n",
       "      <td>January 31, 2019</td>\n",
       "      <td>I replaced a 20+ year-old Baldwin lock.  Compl...</td>\n",
       "      <td>Verified Purchase</td>\n",
       "      <td>http://www.amazon.com/dp/B00002N6WX</td>\n",
       "      <td>B00002N6WX</td>\n",
       "      <td>Baldwin Estate 8231.003 Low Profile Traditiona...</td>\n",
       "      <td>4.3 out of 5 stars</td>\n",
       "      <td>1/11/2020</td>\n",
       "      <td>0</td>\n",
       "    </tr>\n",
       "    <tr>\n",
       "      <th>2</th>\n",
       "      <td>Five Stars</td>\n",
       "      <td>5.0 out of 5 stars</td>\n",
       "      <td>John Doe</td>\n",
       "      <td>March 19, 2017</td>\n",
       "      <td>very nice</td>\n",
       "      <td>Verified Purchase</td>\n",
       "      <td>http://www.amazon.com/dp/B00002N6WX</td>\n",
       "      <td>B00002N6WX</td>\n",
       "      <td>Baldwin Estate 8231.003 Low Profile Traditiona...</td>\n",
       "      <td>4.3 out of 5 stars</td>\n",
       "      <td>1/11/2020</td>\n",
       "      <td>0</td>\n",
       "    </tr>\n",
       "    <tr>\n",
       "      <th>3</th>\n",
       "      <td>Value</td>\n",
       "      <td>5.0 out of 5 stars</td>\n",
       "      <td>Frenchie</td>\n",
       "      <td>November 24, 2012</td>\n",
       "      <td>You cannot beat solid brass for external doors...</td>\n",
       "      <td>Verified Purchase</td>\n",
       "      <td>http://www.amazon.com/dp/B00002N6WX</td>\n",
       "      <td>B00002N6WX</td>\n",
       "      <td>Baldwin Estate 8231.003 Low Profile Traditiona...</td>\n",
       "      <td>4.3 out of 5 stars</td>\n",
       "      <td>1/11/2020</td>\n",
       "      <td>0</td>\n",
       "    </tr>\n",
       "    <tr>\n",
       "      <th>4</th>\n",
       "      <td>Very nice</td>\n",
       "      <td>5.0 out of 5 stars</td>\n",
       "      <td>Sheila Jones</td>\n",
       "      <td>December 8, 2012</td>\n",
       "      <td>I purchased these deadbolt locks to go with th...</td>\n",
       "      <td>Verified Purchase</td>\n",
       "      <td>http://www.amazon.com/dp/B00002N6WX</td>\n",
       "      <td>B00002N6WX</td>\n",
       "      <td>Baldwin Estate 8231.003 Low Profile Traditiona...</td>\n",
       "      <td>4.3 out of 5 stars</td>\n",
       "      <td>1/11/2020</td>\n",
       "      <td>0</td>\n",
       "    </tr>\n",
       "  </tbody>\n",
       "</table>\n",
       "</div>"
      ],
      "text/plain": [
       "                                        review_title          StarRating  \\\n",
       "0  High quality appearance and function, horizont...  5.0 out of 5 stars   \n",
       "1                                    Beautiful lock!  5.0 out of 5 stars   \n",
       "2                                         Five Stars  5.0 out of 5 stars   \n",
       "3                                              Value  5.0 out of 5 stars   \n",
       "4                                          Very nice  5.0 out of 5 stars   \n",
       "\n",
       "  reviewer_name        review_date  \\\n",
       "0     Bob in VA   January 20, 2014   \n",
       "1   WoodButcher   January 31, 2019   \n",
       "2      John Doe     March 19, 2017   \n",
       "3      Frenchie  November 24, 2012   \n",
       "4  Sheila Jones   December 8, 2012   \n",
       "\n",
       "                                  review_description         Other_Tags  \\\n",
       "0  As usual with Baldwin products, this is a high...  Verified Purchase   \n",
       "1  I replaced a 20+ year-old Baldwin lock.  Compl...  Verified Purchase   \n",
       "2                                          very nice  Verified Purchase   \n",
       "3  You cannot beat solid brass for external doors...  Verified Purchase   \n",
       "4  I purchased these deadbolt locks to go with th...  Verified Purchase   \n",
       "\n",
       "                             input_url        asin  \\\n",
       "0  http://www.amazon.com/dp/B00002N6WX  B00002N6WX   \n",
       "1  http://www.amazon.com/dp/B00002N6WX  B00002N6WX   \n",
       "2  http://www.amazon.com/dp/B00002N6WX  B00002N6WX   \n",
       "3  http://www.amazon.com/dp/B00002N6WX  B00002N6WX   \n",
       "4  http://www.amazon.com/dp/B00002N6WX  B00002N6WX   \n",
       "\n",
       "                                        product_name overall_stars_rating  \\\n",
       "0  Baldwin Estate 8231.003 Low Profile Traditiona...   4.3 out of 5 stars   \n",
       "1  Baldwin Estate 8231.003 Low Profile Traditiona...   4.3 out of 5 stars   \n",
       "2  Baldwin Estate 8231.003 Low Profile Traditiona...   4.3 out of 5 stars   \n",
       "3  Baldwin Estate 8231.003 Low Profile Traditiona...   4.3 out of 5 stars   \n",
       "4  Baldwin Estate 8231.003 Low Profile Traditiona...   4.3 out of 5 stars   \n",
       "\n",
       "  monthly_reviews_date  monthly_reviews_count  \n",
       "0            1/11/2020                      0  \n",
       "1            1/11/2020                      0  \n",
       "2            1/11/2020                      0  \n",
       "3            1/11/2020                      0  \n",
       "4            1/11/2020                      0  "
      ]
     },
     "execution_count": 20,
     "metadata": {},
     "output_type": "execute_result"
    }
   ],
   "source": [
    "reviews.head()"
   ]
  },
  {
   "cell_type": "code",
   "execution_count": 21,
   "metadata": {},
   "outputs": [
    {
     "name": "stdout",
     "output_type": "stream",
     "text": [
      "<class 'pandas.core.frame.DataFrame'>\n",
      "Int64Index: 14 entries, 0 to 13\n",
      "Data columns (total 12 columns):\n",
      " #   Column                 Non-Null Count  Dtype \n",
      "---  ------                 --------------  ----- \n",
      " 0   review_title           14 non-null     object\n",
      " 1   StarRating             14 non-null     object\n",
      " 2   reviewer_name          14 non-null     object\n",
      " 3   review_date            14 non-null     object\n",
      " 4   review_description     14 non-null     object\n",
      " 5   Other_Tags             14 non-null     object\n",
      " 6   input_url              14 non-null     object\n",
      " 7   asin                   14 non-null     object\n",
      " 8   product_name           14 non-null     object\n",
      " 9   overall_stars_rating   14 non-null     object\n",
      " 10  monthly_reviews_date   14 non-null     object\n",
      " 11  monthly_reviews_count  14 non-null     int64 \n",
      "dtypes: int64(1), object(11)\n",
      "memory usage: 1.4+ KB\n"
     ]
    }
   ],
   "source": [
    "reviews.info()"
   ]
  },
  {
   "cell_type": "markdown",
   "metadata": {},
   "source": [
    "### Follow me on Github for more Updates"
   ]
  }
 ],
 "metadata": {
  "kernelspec": {
   "display_name": "Python 3",
   "language": "python",
   "name": "python3"
  },
  "varInspector": {
   "cols": {
    "lenName": 16,
    "lenType": 16,
    "lenVar": 40
   },
   "kernels_config": {
    "python": {
     "delete_cmd_postfix": "",
     "delete_cmd_prefix": "del ",
     "library": "var_list.py",
     "varRefreshCmd": "print(var_dic_list())"
    },
    "r": {
     "delete_cmd_postfix": ") ",
     "delete_cmd_prefix": "rm(",
     "library": "var_list.r",
     "varRefreshCmd": "cat(var_dic_list()) "
    }
   },
   "types_to_exclude": [
    "module",
    "function",
    "builtin_function_or_method",
    "instance",
    "_Feature"
   ],
   "window_display": false
  }
 },
 "nbformat": 4,
 "nbformat_minor": 4
}
