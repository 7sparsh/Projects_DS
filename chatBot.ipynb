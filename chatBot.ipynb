{
  "nbformat": 4,
  "nbformat_minor": 0,
  "metadata": {
    "colab": {
      "name": "chatBot.ipynb",
      "provenance": [],
      "collapsed_sections": []
    },
    "kernelspec": {
      "name": "python3",
      "display_name": "Python 3"
    }
  },
  "cells": [
    {
      "cell_type": "code",
      "metadata": {
        "colab": {
          "base_uri": "https://localhost:8080/"
        },
        "id": "hcNPB1ijVFqJ",
        "outputId": "92938ae1-c330-470a-ea4b-fef8dd449582"
      },
      "source": [
        "import torch\n",
        "import torch.nn as nn\n",
        "\n",
        "import nltk\n",
        "import numpy as np\n",
        "nltk.download('punkt')\n",
        "from nltk.stem.porter import PorterStemmer\n",
        "\n",
        "import json\n",
        "# from nltk_utils import tokenize, stem, bag_of_words\n",
        "# import numpy as np\n",
        "\n",
        "# import torch\n",
        "# import torch.nn as nn\n",
        "from torch.utils.data import Dataset, DataLoader\n",
        "\n",
        "import random\n",
        "import json\n",
        "import torch "
      ],
      "execution_count": 88,
      "outputs": [
        {
          "output_type": "stream",
          "text": [
            "[nltk_data] Downloading package punkt to /root/nltk_data...\n",
            "[nltk_data]   Package punkt is already up-to-date!\n"
          ],
          "name": "stdout"
        }
      ]
    },
    {
      "cell_type": "code",
      "metadata": {
        "id": "GMazbPvV8zU7"
      },
      "source": [
        "class NeuralNet(nn.Module):\n",
        "    def __init__(self, input_size, hidden_size, num_classes):\n",
        "        super(NeuralNet, self).__init__()\n",
        "        self.l1 = nn.Linear(input_size, hidden_size)\n",
        "        self.l2 = nn.Linear(hidden_size, hidden_size)\n",
        "        self.l3 = nn.Linear(hidden_size, num_classes)\n",
        "        self.relu = nn.ReLU()\n",
        "    \n",
        "    def forward(self, x):\n",
        "        out = self.l1(x)\n",
        "        out = self.relu(out)\n",
        "        out = self.l2(out)\n",
        "        out = self.relu(out)\n",
        "        out = self.l3(out)\n",
        "        # no activation and no softmax\n",
        "        return out\n"
      ],
      "execution_count": 89,
      "outputs": []
    },
    {
      "cell_type": "code",
      "metadata": {
        "id": "lZWIhOgU8zSu"
      },
      "source": [
        "stemmer = PorterStemmer()\n",
        "\n",
        "def tokenize(sentence):\n",
        "    return nltk.word_tokenize(sentence)\n",
        "\n",
        "def stem(word):\n",
        "    return stemmer.stem(word.lower())\n",
        "\n",
        "def bag_of_words(tokenized_sentence, all_words):\n",
        "    \"\"\"\n",
        "    sentence = [\"hello, \"how\", \"are\", \"you\"]\n",
        "    words = [\"hi\", \"hello\", \"I\", \"you\", \"bye\", \"thank\", \"cool\"]\n",
        "    bag =   [0,     1,       0,   1,    0,      0,       0 ]\n",
        "    \"\"\"\n",
        "    tokenized_sentence = [stem(w) for w in tokenized_sentence]\n",
        "    \n",
        "    bag = np.zeros(len(all_words), dtype = np.float32)\n",
        "    for idx, w in enumerate(all_words):\n",
        "        if w in tokenized_sentence:\n",
        "            bag[idx] = 1.0\n",
        "    return bag\n"
      ],
      "execution_count": 90,
      "outputs": []
    },
    {
      "cell_type": "code",
      "metadata": {
        "colab": {
          "base_uri": "https://localhost:8080/"
        },
        "id": "G2Z2bOnz8zQM",
        "outputId": "eba5ce4e-edd3-4dd9-b2fe-95ba1257bd1e"
      },
      "source": [
        "# from model import NeuralNet\n",
        "\n",
        "with open('intents.json', 'r') as f:\n",
        "    intents = json.load(f)\n",
        "\n",
        "# print(intents)\n",
        "\n",
        "all_words = []\n",
        "tags = []\n",
        "xy = []\n",
        "for intent in intents['intents']:\n",
        "    tag = intent['tag']\n",
        "    tags.append(tag)\n",
        "    for pattern in intent['patterns']:\n",
        "        w = tokenize(pattern)\n",
        "        all_words.extend(w)\n",
        "        xy.append((w, tag))\n",
        "\n",
        "ignore_words = ['?','!','.',',']\n",
        "all_words = [stem(w) for w in all_words if w not in ignore_words]\n",
        "all_words = sorted(set(all_words))\n",
        "tags  = sorted(set(tags))\n",
        "\n",
        "X_train  = []\n",
        "y_train = []\n",
        "for (pattern_sentence, tag) in xy:\n",
        "    bag = bag_of_words(pattern_sentence, all_words)\n",
        "    X_train.append(bag)\n",
        "    \n",
        "    label = tags.index(tag)\n",
        "    y_train.append(label) # CrossEntropyLoss\n",
        "\n",
        "X_train = np.array(X_train)\n",
        "y_train = np.array(y_train)\n",
        "\n",
        "class ChatDataset(Dataset):\n",
        "    def __init__(self):\n",
        "        self.n_samples = len(X_train)\n",
        "        self.x_data = X_train\n",
        "        self.y_data = y_train\n",
        "        \n",
        "    # dataset[idx]\n",
        "    def __getitem__(self, index):\n",
        "        return self.x_data[index], self.y_data[index]\n",
        "\n",
        "    def __len__(self):\n",
        "        return self.n_samples\n",
        "\n",
        "# Hyper paramters\n",
        "batch_size = 8\n",
        "hidden_size = 8\n",
        "output_size = len(tags)\n",
        "input_size = len(X_train[0])\n",
        "learning_rate = 0.001\n",
        "num_epochs = 1000\n",
        "\n",
        "\n",
        "dataset = ChatDataset()\n",
        "train_loader = DataLoader(dataset = dataset, batch_size = batch_size,\n",
        "                        shuffle =True, num_workers=2)\n",
        "\n",
        "device  = torch.device('cuda' if torch.cuda.is_available() else 'cpu')\n",
        "\n",
        "model = NeuralNet(input_size, hidden_size, output_size)\n",
        "\n",
        "# loss and optimizer\n",
        "criterion = nn.CrossEntropyLoss()\n",
        "optimizer = torch.optim.Adam(model.parameters(), lr = learning_rate)\n",
        "\n",
        "for epoch in range(num_epochs):\n",
        "    for (words, labels) in train_loader:\n",
        "        words = words.to(device)\n",
        "        labels = labels.to(device)\n",
        "\n",
        "        # Forward\n",
        "        outputs = model(words)\n",
        "        loss = criterion(outputs, labels)\n",
        "\n",
        "        # backward and optimizer step\n",
        "        optimizer.zero_grad()\n",
        "        loss.backward()\n",
        "        optimizer.step()\n",
        "\n",
        "    if (epoch +1) % 100 == 0:\n",
        "        # f'epoch {epoch+1}/{num_epochs}, loss={loss.item():.4f}'\n",
        "        print(\"epoch {}/{}, loss={:.4f}.\".format(epoch+1,num_epochs,loss.item()))\n",
        "\n",
        "# print(f'Final loss, loss={loss.item():.4f}')\n",
        "print(\"Final Loss, loss{:.4f}\".format(loss.item()))"
      ],
      "execution_count": 91,
      "outputs": [
        {
          "output_type": "stream",
          "text": [
            "epoch 100/1000, loss=0.4773.\n",
            "epoch 200/1000, loss=0.0183.\n",
            "epoch 300/1000, loss=0.0162.\n",
            "epoch 400/1000, loss=0.0115.\n",
            "epoch 500/1000, loss=0.0004.\n",
            "epoch 600/1000, loss=0.0004.\n",
            "epoch 700/1000, loss=0.0017.\n",
            "epoch 800/1000, loss=0.0003.\n",
            "epoch 900/1000, loss=0.0003.\n",
            "epoch 1000/1000, loss=0.0000.\n",
            "Final Loss, loss0.0000\n"
          ],
          "name": "stdout"
        }
      ]
    },
    {
      "cell_type": "code",
      "metadata": {
        "colab": {
          "base_uri": "https://localhost:8080/"
        },
        "id": "P0gBvotx8zNe",
        "outputId": "cbea469a-bda1-402d-85d4-cd56921b7c87"
      },
      "source": [
        "data = {\n",
        "    \"model_state\":model.state_dict(),\n",
        "    \"input_size\":input_size,\n",
        "    \"output_size\":output_size,\n",
        "    \"hiddent_size\": hidden_size,\n",
        "    \"all_words\":all_words,\n",
        "    \"tags\": tags\n",
        "}\n",
        "FILE = \"data.pth\"\n",
        "torch.save(data, FILE)\n",
        "\n",
        "print(\"Traning complete. file saved to\",FILE)"
      ],
      "execution_count": 92,
      "outputs": [
        {
          "output_type": "stream",
          "text": [
            "Traning complete. file saved to data.pth\n"
          ],
          "name": "stdout"
        }
      ]
    },
    {
      "cell_type": "code",
      "metadata": {
        "colab": {
          "base_uri": "https://localhost:8080/"
        },
        "id": "fEnOFOE88zK8",
        "outputId": "09f7d8ee-217f-4539-f133-eb1db207d40c"
      },
      "source": [
        "device  = torch.device('cuda' if torch.cuda.is_available() else 'cpu')\n",
        "print(device)\n",
        "\n",
        "with open('intents.json','r') as f:\n",
        "  intents = json.load(f)\n",
        "\n",
        "FILE = \"data.pth\"\n",
        "data = torch.load(FILE)\n",
        "\n",
        "input_size = data['input_size']\n",
        "hidden_size = data['hiddent_size']\n",
        "output_size = data['output_size']\n",
        "all_words = data['all_words']\n",
        "tags = data['tags']\n",
        "model_state = data['model_state']\n",
        "\n",
        "model = NeuralNet(input_size, hidden_size, output_size).to(device)\n",
        "model.load_state_dict(model_state)\n",
        "model.eval()"
      ],
      "execution_count": 93,
      "outputs": [
        {
          "output_type": "stream",
          "text": [
            "cpu\n"
          ],
          "name": "stdout"
        },
        {
          "output_type": "execute_result",
          "data": {
            "text/plain": [
              "NeuralNet(\n",
              "  (l1): Linear(in_features=76, out_features=8, bias=True)\n",
              "  (l2): Linear(in_features=8, out_features=8, bias=True)\n",
              "  (l3): Linear(in_features=8, out_features=11, bias=True)\n",
              "  (relu): ReLU()\n",
              ")"
            ]
          },
          "metadata": {
            "tags": []
          },
          "execution_count": 93
        }
      ]
    },
    {
      "cell_type": "code",
      "metadata": {
        "colab": {
          "base_uri": "https://localhost:8080/"
        },
        "id": "j3yL9WOJ8zE6",
        "outputId": "dc1ae011-a775-4574-b9e7-715c929fc994"
      },
      "source": [
        "bot_name = \"Taru\"\n",
        "print(\"Hi! Welcome to cakegift.in. /n How May I Help You Today? /n Let's Chat! Type 'quit' to exit\")\n",
        "print(\"Namste !!! We are working everywhere in Pan-india. Just drop you delivery location pincode/postal code to check delivery availability or ask us at Whatsapp Helpline 7726996443.\")\n",
        "while True:\n",
        "  sentence = input('You: ')\n",
        "  for word in sentence.split():\n",
        "   if word.isdigit():\n",
        "     print(\"{} Yes, Delivery available!\".format(bot_name))\n",
        "     sentence = input('You: ')\n",
        "     break\n",
        "\n",
        "  if sentence =='quit':\n",
        "    break\n",
        "  \n",
        "  sentence = tokenize(sentence)\n",
        "  X = bag_of_words(sentence, all_words)\n",
        "  X = X.reshape(1, X.shape[0])\n",
        "  X = torch.from_numpy(X)\n",
        "\n",
        "  output = model(X)\n",
        "  _, predicted = torch.max(output, dim=1)\n",
        "  tag = tags[predicted.item()]\n",
        "\n",
        "  probs = torch.softmax(output, dim=1)\n",
        "  prob = probs[0][predicted.item()]\n",
        "\n",
        "\n",
        "  if prob.item() >0.75:\n",
        "    for intent in intents[\"intents\"]:\n",
        "      if tag == intent[\"tag\"]:\n",
        "        print(bot_name, \":\",random.choice(intent['responses']))\n",
        "        # print(\"{}:{}\".format(bot_name,random.choice(intent['responses'])))\n",
        "      \n",
        "  else:\n",
        "    print(\"{} I do not understand...contact on WhatsApp\".format(bot_name))"
      ],
      "execution_count": 95,
      "outputs": [
        {
          "output_type": "stream",
          "text": [
            "Hi! Welcome to cakegift.in. /n How May I Help You Today? /n Let's Chat! Type 'quit' to exit\n",
            "Namste !!! We are working everywhere in Pan-india. Just drop you delivery location pincode/postal code to check delivery availability or ask us at Whatsapp Helpline 7726996443.\n",
            "You: i want to know about my order\n",
            "Taru : To check the delivery status-related query please send a Whatsapp message at 9829006028, Our team reply there and resolved your concern only on the WhatsApp. Thanks\n",
            "You: i want my refund\n",
            "Taru I do not understand...\n",
            "You: i want to cancel my order\n",
            "Taru : For cancel your sent mail on order@cakegift.in\n",
            "You: quit\n"
          ],
          "name": "stdout"
        }
      ]
    },
    {
      "cell_type": "code",
      "metadata": {
        "id": "AQAVKDj5Vi6U"
      },
      "source": [
        ""
      ],
      "execution_count": null,
      "outputs": []
    },
    {
      "cell_type": "code",
      "metadata": {
        "id": "JN37GBimVixN"
      },
      "source": [
        ""
      ],
      "execution_count": null,
      "outputs": []
    },
    {
      "cell_type": "code",
      "metadata": {
        "id": "FolCGBf3Viuo"
      },
      "source": [
        ""
      ],
      "execution_count": null,
      "outputs": []
    },
    {
      "cell_type": "code",
      "metadata": {
        "id": "JC5jZDaTVika"
      },
      "source": [
        ""
      ],
      "execution_count": null,
      "outputs": []
    },
    {
      "cell_type": "code",
      "metadata": {
        "id": "qtiKdqFjVih_"
      },
      "source": [
        ""
      ],
      "execution_count": null,
      "outputs": []
    },
    {
      "cell_type": "code",
      "metadata": {
        "id": "3BpOAjHEVifi"
      },
      "source": [
        ""
      ],
      "execution_count": null,
      "outputs": []
    },
    {
      "cell_type": "code",
      "metadata": {
        "id": "5T2-nd4B1FQS"
      },
      "source": [
        "import pandas as pd\n",
        "df = pd.read_csv(\"https://raw.githubusercontent.com/taruntiwarihp/dataSets/master/CakeGift/chatHistory.csv\")"
      ],
      "execution_count": null,
      "outputs": []
    },
    {
      "cell_type": "code",
      "metadata": {
        "colab": {
          "base_uri": "https://localhost:8080/"
        },
        "id": "Dsg7tEME2DEz",
        "outputId": "3c576dcb-2c82-4ff4-c753-c94c45b7be66"
      },
      "source": [
        "df.columns"
      ],
      "execution_count": null,
      "outputs": [
        {
          "output_type": "execute_result",
          "data": {
            "text/plain": [
              "Index(['S.No', 'Visitor ID', 'Name', 'Email Address', 'Phone Number', 'Status',\n",
              "       'Country', 'Department', 'Embed', 'Attender', 'Question', 'Date',\n",
              "       'In Time', 'Pick up Time', 'Chat Duration'],\n",
              "      dtype='object')"
            ]
          },
          "metadata": {
            "tags": []
          },
          "execution_count": 11
        }
      ]
    },
    {
      "cell_type": "code",
      "metadata": {
        "colab": {
          "base_uri": "https://localhost:8080/",
          "height": 357
        },
        "id": "wo-N5WbS2GkJ",
        "outputId": "89179f12-61fc-49e5-c744-23f2ca51ab9e"
      },
      "source": [
        "df.head()"
      ],
      "execution_count": null,
      "outputs": [
        {
          "output_type": "execute_result",
          "data": {
            "text/html": [
              "<div>\n",
              "<style scoped>\n",
              "    .dataframe tbody tr th:only-of-type {\n",
              "        vertical-align: middle;\n",
              "    }\n",
              "\n",
              "    .dataframe tbody tr th {\n",
              "        vertical-align: top;\n",
              "    }\n",
              "\n",
              "    .dataframe thead th {\n",
              "        text-align: right;\n",
              "    }\n",
              "</style>\n",
              "<table border=\"1\" class=\"dataframe\">\n",
              "  <thead>\n",
              "    <tr style=\"text-align: right;\">\n",
              "      <th></th>\n",
              "      <th>S.No</th>\n",
              "      <th>Visitor ID</th>\n",
              "      <th>Name</th>\n",
              "      <th>Email Address</th>\n",
              "      <th>Phone Number</th>\n",
              "      <th>Status</th>\n",
              "      <th>Country</th>\n",
              "      <th>Department</th>\n",
              "      <th>Embed</th>\n",
              "      <th>Attender</th>\n",
              "      <th>Question</th>\n",
              "      <th>Date</th>\n",
              "      <th>In Time</th>\n",
              "      <th>Pick up Time</th>\n",
              "      <th>Chat Duration</th>\n",
              "    </tr>\n",
              "  </thead>\n",
              "  <tbody>\n",
              "    <tr>\n",
              "      <th>0</th>\n",
              "      <td>1</td>\n",
              "      <td>#19330</td>\n",
              "      <td>Mayank Shekhar</td>\n",
              "      <td>vu3pef@gmail.com</td>\n",
              "      <td>NaN</td>\n",
              "      <td>Missed</td>\n",
              "      <td>India</td>\n",
              "      <td>Cakegift.in</td>\n",
              "      <td>Cakegift.in</td>\n",
              "      <td>NaN</td>\n",
              "      <td>Order number 115735 not received by midnight</td>\n",
              "      <td>7/3/2021</td>\n",
              "      <td>13:35</td>\n",
              "      <td>NaN</td>\n",
              "      <td>NaN</td>\n",
              "    </tr>\n",
              "    <tr>\n",
              "      <th>1</th>\n",
              "      <td>2</td>\n",
              "      <td>#19329</td>\n",
              "      <td>Visitor 390961</td>\n",
              "      <td>NaN</td>\n",
              "      <td>NaN</td>\n",
              "      <td>Attended Online</td>\n",
              "      <td>India</td>\n",
              "      <td>Cakegift.in</td>\n",
              "      <td>Cakegift.in</td>\n",
              "      <td>sandeep choudhary</td>\n",
              "      <td>400070</td>\n",
              "      <td>7/3/2021</td>\n",
              "      <td>10:59</td>\n",
              "      <td>10:59</td>\n",
              "      <td>1 Min 42 Secs</td>\n",
              "    </tr>\n",
              "    <tr>\n",
              "      <th>2</th>\n",
              "      <td>3</td>\n",
              "      <td>#19328</td>\n",
              "      <td>Visitor 958391</td>\n",
              "      <td>NaN</td>\n",
              "      <td>NaN</td>\n",
              "      <td>Attended Online</td>\n",
              "      <td>India</td>\n",
              "      <td>Cakegift.in</td>\n",
              "      <td>Cakegift.in</td>\n",
              "      <td>sandeep choudhary</td>\n",
              "      <td>Gonda 271001</td>\n",
              "      <td>7/3/2021</td>\n",
              "      <td>10:54</td>\n",
              "      <td>10:54</td>\n",
              "      <td>8 Mins 21 Secs</td>\n",
              "    </tr>\n",
              "    <tr>\n",
              "      <th>3</th>\n",
              "      <td>4</td>\n",
              "      <td>#19327</td>\n",
              "      <td>Trushna jamgade</td>\n",
              "      <td>trushnajamgade94@gmail.com</td>\n",
              "      <td>7263976693</td>\n",
              "      <td>Attended Online</td>\n",
              "      <td>India</td>\n",
              "      <td>Cakegift.in</td>\n",
              "      <td>Cakegift.in</td>\n",
              "      <td>sandeep choudhary</td>\n",
              "      <td>I want order today at11pm</td>\n",
              "      <td>7/3/2021</td>\n",
              "      <td>10:46</td>\n",
              "      <td>10:46</td>\n",
              "      <td>40 Secs</td>\n",
              "    </tr>\n",
              "    <tr>\n",
              "      <th>4</th>\n",
              "      <td>5</td>\n",
              "      <td>#19326</td>\n",
              "      <td>vu3pef</td>\n",
              "      <td>NaN</td>\n",
              "      <td>NaN</td>\n",
              "      <td>Attended Online</td>\n",
              "      <td>India</td>\n",
              "      <td>Cakegift.in</td>\n",
              "      <td>Cakegift.in</td>\n",
              "      <td>sandeep choudhary</td>\n",
              "      <td>842002</td>\n",
              "      <td>7/3/2021</td>\n",
              "      <td>10:40</td>\n",
              "      <td>10:40</td>\n",
              "      <td>6 Mins 31 Secs</td>\n",
              "    </tr>\n",
              "  </tbody>\n",
              "</table>\n",
              "</div>"
            ],
            "text/plain": [
              "   S.No Visitor ID             Name  ... In Time Pick up Time   Chat Duration\n",
              "0     1     #19330   Mayank Shekhar  ...   13:35          NaN             NaN\n",
              "1     2     #19329   Visitor 390961  ...   10:59        10:59   1 Min 42 Secs\n",
              "2     3     #19328   Visitor 958391  ...   10:54        10:54  8 Mins 21 Secs\n",
              "3     4     #19327  Trushna jamgade  ...   10:46        10:46         40 Secs\n",
              "4     5     #19326           vu3pef  ...   10:40        10:40  6 Mins 31 Secs\n",
              "\n",
              "[5 rows x 15 columns]"
            ]
          },
          "metadata": {
            "tags": []
          },
          "execution_count": 12
        }
      ]
    },
    {
      "cell_type": "code",
      "metadata": {
        "colab": {
          "base_uri": "https://localhost:8080/"
        },
        "id": "_85ePjeS2Hhi",
        "outputId": "c46493a1-8780-4510-d639-ee648f282c62"
      },
      "source": [
        "df['Question'].value_counts()[:20]"
      ],
      "execution_count": null,
      "outputs": [
        {
          "output_type": "execute_result",
          "data": {
            "text/plain": [
              "Hi                   1029\n",
              "Hello                 376\n",
              "hi                    247\n",
              "Hii                    83\n",
              "hello                  81\n",
              "Ok                     50\n",
              "Hey                    42\n",
              "Hlo                    36\n",
              "Where is my order      29\n",
              "Hai                    24\n",
              "HI                     22\n",
              "Hiii                   20\n",
              "248001                 18\n",
              "764001                 17\n",
              "534447                 17\n",
              "628501                 17\n",
              "401107                 15\n",
              "Hi Sandeep             15\n",
              "Hi Palak               14\n",
              "506101                 12\n",
              "Name: Question, dtype: int64"
            ]
          },
          "metadata": {
            "tags": []
          },
          "execution_count": 15
        }
      ]
    },
    {
      "cell_type": "code",
      "metadata": {
        "colab": {
          "base_uri": "https://localhost:8080/",
          "height": 35
        },
        "id": "GJFFsb8Y4npE",
        "outputId": "3631737e-7ad7-413c-e558-7c70f2c7fe8c"
      },
      "source": [
        "df['Question'][6]"
      ],
      "execution_count": null,
      "outputs": [
        {
          "output_type": "execute_result",
          "data": {
            "application/vnd.google.colaboratory.intrinsic+json": {
              "type": "string"
            },
            "text/plain": [
              "'842002'"
            ]
          },
          "metadata": {
            "tags": []
          },
          "execution_count": 23
        }
      ]
    },
    {
      "cell_type": "code",
      "metadata": {
        "id": "hgBjT5nbIZ0U"
      },
      "source": [
        ""
      ],
      "execution_count": null,
      "outputs": []
    },
    {
      "cell_type": "code",
      "metadata": {
        "id": "KpDn0WU32Ps2"
      },
      "source": [
        "lis = df['Question'].value_counts()"
      ],
      "execution_count": null,
      "outputs": []
    },
    {
      "cell_type": "code",
      "metadata": {
        "colab": {
          "base_uri": "https://localhost:8080/"
        },
        "id": "5D9qM8Xf5fdh",
        "outputId": "58f1ddc6-144a-4243-ce9d-213037bc1605"
      },
      "source": [
        "pf['Question'].value_counts()[520:570]"
      ],
      "execution_count": null,
      "outputs": [
        {
          "output_type": "execute_result",
          "data": {
            "text/plain": [
              "680503                                   2\n",
              "415604                                   2\n",
              "614602                                   2\n",
              "641001                                   2\n",
              "627813                                   2\n",
              "Is my order delivered or not             2\n",
              "400097                                   2\n",
              "764004                                   2\n",
              "How much time it will take to deliver    2\n",
              "Ho                                       2\n",
              "523357                                   2\n",
              "723121                                   2\n",
              "560090                                   2\n",
              "152107                                   2\n",
              "581343                                   2\n",
              "600069                                   2\n",
              "248008                                   2\n",
              "342026                                   2\n",
              "509206                                   2\n",
              "175002                                   2\n",
              "680620                                   2\n",
              "400009                                   2\n",
              "421202                                   2\n",
              "i have ordered a cake                    2\n",
              "Can the rainbow cake be customised?      2\n",
              "410208                                   2\n",
              "382330                                   2\n",
              "786192                                   2\n",
              "Can I know the order status              2\n",
              "515411                                   2\n",
              "Will you deliver to jadcharla            2\n",
              "where is my order                        2\n",
              "How to cancel my order                   2\n",
              "Hello aman sir                           2\n",
              "Do you have pinata cake                  2\n",
              "641006                                   2\n",
              "203131                                   2\n",
              "686605                                   2\n",
              "562125                                   2\n",
              "500001                                   2\n",
              "700101                                   2\n",
              "160062                                   2\n",
              "208021                                   2\n",
              "641016                                   2\n",
              "Where are my cake                        2\n",
              "686668                                   2\n",
              "114513                                   2\n",
              "532440                                   2\n",
              "632301                                   2\n",
              "302015                                   2\n",
              "Name: Question, dtype: int64"
            ]
          },
          "metadata": {
            "tags": []
          },
          "execution_count": 74
        }
      ]
    },
    {
      "cell_type": "code",
      "metadata": {
        "id": "JAcMNT8c_k_-"
      },
      "source": [
        "Can the rainbow cake be customised?"
      ],
      "execution_count": null,
      "outputs": []
    },
    {
      "cell_type": "code",
      "metadata": {
        "id": "S-DdnyTU4cbP"
      },
      "source": [
        "pf = pf[pf.Question != 'Hiii']"
      ],
      "execution_count": null,
      "outputs": []
    },
    {
      "cell_type": "code",
      "metadata": {
        "id": "Q_7YV54X56Me"
      },
      "source": [
        "I have ordered a cake for today. Please let me know the delivery status.order number 115473 \n",
        "\n",
        "I am putting msgs to u since yesterday there is no proper customer care there is no hospitality in ur website..i placed my order 112591\n",
        " yesterday for midnight delivery...paid extra for midnight delivery...no there was nothing that got deliverd..and i have no one tosk in ur website..\n",
        " no customer support and care at all...whg did u even have an option for midnight delivery...y do u even have a website wen u cant fulfill basic things..\n",
        " i placed and order and spent money to give a surprise to my husband ...now i feel foolish to GAve choosen ur website.. I need my refund ..\n",
        " i am done with your website.. \n",
        "\n",
        "\n",
        " Can you give an update on my order 113220 which is scheduled to be delivered today between 2:30 and 4pm\n",
        "\n",
        " Can you please deliver the cake by 10/12/2020 11:00 am                                                                                                                                                                                                                                                                                                                                                                                                                                                                                                                                                                        2\n",
        "Can I check my order status\n",
        "\n",
        "My order from cake gift was supposed to be delivered today by 4:00pm, but it is not delivered yet. I want to know the status for my order no. 109272 \n",
        "\n",
        "Hi are ur services available for the below mentioned address\n",
        "\n",
        "Hi there\\nI have placed an order an month ago- 108842 for yesterday& 39;s delviery. It& 39;s still not been delivered. May I know what&#39;s happening?\\nLooking for earliest reply.\\n\\nThanks\\nSahithi Jadav"
      ],
      "execution_count": null,
      "outputs": []
    },
    {
      "cell_type": "code",
      "metadata": {
        "colab": {
          "base_uri": "https://localhost:8080/"
        },
        "id": "tF6zem1B2-ys",
        "outputId": "e75b169d-0b00-4af5-9c7e-eae09257fcd9"
      },
      "source": [
        "lis[:30]"
      ],
      "execution_count": null,
      "outputs": [
        {
          "output_type": "execute_result",
          "data": {
            "text/plain": [
              "Hi                   1029\n",
              "Hello                 376\n",
              "hi                    247\n",
              "Hii                    83\n",
              "hello                  81\n",
              "Ok                     50\n",
              "Hey                    42\n",
              "Hlo                    36\n",
              "Where is my order      29\n",
              "Hai                    24\n",
              "HI                     22\n",
              "Hiii                   20\n",
              "248001                 18\n",
              "764001                 17\n",
              "534447                 17\n",
              "628501                 17\n",
              "401107                 15\n",
              "Hi Sandeep             15\n",
              "Hi Palak               14\n",
              "506101                 12\n",
              "606202                 12\n",
              "635601                 12\n",
              "521235                 12\n",
              "hey                    12\n",
              "690101                 12\n",
              "632602                 11\n",
              "Hi sir                 10\n",
              "Hi Pooja               10\n",
              "Hi,                    10\n",
              "628502                  9\n",
              "Name: Question, dtype: int64"
            ]
          },
          "metadata": {
            "tags": []
          },
          "execution_count": 21
        }
      ]
    },
    {
      "cell_type": "code",
      "metadata": {
        "id": "vdWYdePW3A5v"
      },
      "source": [
        ""
      ],
      "execution_count": null,
      "outputs": []
    }
  ]
}